{
 "cells": [
  {
   "cell_type": "code",
   "execution_count": 71,
   "metadata": {},
   "outputs": [],
   "source": [
    "import pandas as pd\n",
    "import seaborn as sns\n",
    "import matplotlib.pyplot as plt\n",
    "import numpy as np\n",
    "import utils.paths as path"
   ]
  },
  {
   "cell_type": "code",
   "execution_count": 72,
   "metadata": {},
   "outputs": [],
   "source": [
    "#funcion para crear lista de numeros para los replaces\n",
    "def list_number(start,end):\n",
    "    \n",
    "    list_n = []\n",
    "    \n",
    "    for number in range(start,end):\n",
    "        list_n.append(number)\n",
    "    \n",
    "    return list_n"
   ]
  },
  {
   "cell_type": "code",
   "execution_count": 73,
   "metadata": {},
   "outputs": [],
   "source": [
    "data_dir = path.make_dir_function(\"data\")"
   ]
  },
  {
   "attachments": {},
   "cell_type": "markdown",
   "metadata": {},
   "source": [
    "# Descarga de los datos por año"
   ]
  },
  {
   "cell_type": "code",
   "execution_count": 74,
   "metadata": {},
   "outputs": [],
   "source": [
    "raw_2018 = (\n",
    "    pd.read_csv(\n",
    "    data_dir('raw','hurto_2018.csv'),\n",
    "    delimiter=';',\n",
    "    names=['DIRECTORIO', 'NRO_ENCUESTA', 'SECUENCIA_ENCUESTA', 'SECUENCIA_P',\n",
    "    'ORDEN', 'mes_ultimo_unico_robo','municipio','metodo','hora','lugar',\n",
    "    'celular','efectivo_tarjetas','articulos_de_uso_personal','dispositivos','otra_pertenencia',\n",
    "    'arma_fuego','arma_blanca','otros_objetos','fuerza_fisica','drogas_sustancias','hizo_llamada',\n",
    "    'denuncia','lugar_denuncia','autoridad','razon_denuncia','buena_atencion',\n",
    "    'razon_de_satisfaccion','razon_no_denuncia','recuperacion_objeto','FEX_C'\n",
    "    ],\n",
    "    header=0,\n",
    "    na_filter=True,\n",
    "    na_values=[' ']\n",
    "    )\n",
    "\n",
    ")\n"
   ]
  },
  {
   "cell_type": "code",
   "execution_count": 75,
   "metadata": {},
   "outputs": [],
   "source": [
    "#cambiar la columna fex de posicion para que queden en la misma que los otros datos\n",
    "fex_c_2018 = raw_2018.FEX_C\n",
    "raw_2018.pop('FEX_C')\n",
    "raw_2018.insert(5,'FEX_C',fex_c_2018)"
   ]
  },
  {
   "cell_type": "code",
   "execution_count": 76,
   "metadata": {},
   "outputs": [],
   "source": [
    "raw_2019 = (\n",
    "    pd.read_csv(\n",
    "    data_dir('raw','hurto_2019.csv'),\n",
    "    delimiter=';',\n",
    "    names=['DIRECTORIO', 'NRO_ENCUESTA', 'SECUENCIA_ENCUESTA', 'SECUENCIA_P',\n",
    "    'ORDEN','FEX_C', 'mes_ultimo_unico_robo','municipio','metodo','hora','lugar',\n",
    "    'celular','efectivo_tarjetas','articulos_de_uso_personal','dispositivos','otra_pertenencia',\n",
    "    'arma_fuego','arma_blanca','otros_objetos','fuerza_fisica','drogas_sustancias','hizo_llamada',\n",
    "    'denuncia','lugar_denuncia','autoridad','razon_denuncia','buena_atencion',\n",
    "    'razon_de_satisfaccion','razon_no_denuncia','recuperacion_objeto'\n",
    "    ],\n",
    "    header=0,\n",
    "    na_filter=True,\n",
    "    na_values=[' ']\n",
    "    )\n",
    ")\n"
   ]
  },
  {
   "cell_type": "code",
   "execution_count": 77,
   "metadata": {},
   "outputs": [],
   "source": [
    "raw_2020 = (\n",
    "    pd.read_csv(\n",
    "    data_dir('raw','hurto_2020.csv'),\n",
    "    delimiter=';',\n",
    "    names=['DIRECTORIO', 'NRO_ENCUESTA', 'SECUENCIA_ENCUESTA', 'SECUENCIA_P',\n",
    "    'ORDEN','FEX_C', 'mes_ultimo_unico_robo','municipio','metodo','hora','lugar',\n",
    "    'celular','efectivo_tarjetas','articulos_de_uso_personal','dispositivos','otra_pertenencia',\n",
    "    'arma_fuego','arma_blanca','otros_objetos','fuerza_fisica','drogas_sustancias','hizo_llamada',\n",
    "    'denuncia','lugar_denuncia','autoridad','razon_denuncia','buena_atencion',\n",
    "    'razon_de_satisfaccion','razon_no_denuncia','recuperacion_objeto'\n",
    "    ],\n",
    "    header=0,\n",
    "    na_filter=True,\n",
    "    na_values=[' ']\n",
    "    )\n",
    ")"
   ]
  },
  {
   "cell_type": "code",
   "execution_count": 78,
   "metadata": {},
   "outputs": [],
   "source": [
    "#insertar el año en cada dataframe\n",
    "raw_2018.insert(loc=len(raw_2018.columns), column='year', value='2018')\n",
    "raw_2019.insert(loc=len(raw_2019.columns), column='year', value='2019')\n",
    "raw_2020.insert(loc=len(raw_2020.columns), column='year', value='2020')"
   ]
  },
  {
   "attachments": {},
   "cell_type": "markdown",
   "metadata": {},
   "source": [
    "## Concatenación y creación de DataFrame final:"
   ]
  },
  {
   "cell_type": "code",
   "execution_count": 79,
   "metadata": {},
   "outputs": [],
   "source": [
    "#concatenación de los datos en un solo dataframe\n",
    "raw_joint = pd.concat([raw_2018,raw_2019,raw_2020])"
   ]
  },
  {
   "cell_type": "code",
   "execution_count": 80,
   "metadata": {},
   "outputs": [],
   "source": [
    "#En la documentacion no me sale la equivalencia de estos valores en las encuestas\n",
    "#por ello decido eliminarlos del conjunto de datos\n",
    "raw_joint.drop(1418,axis=0,inplace=True)\n",
    "raw_joint = raw_joint[raw_joint['razon_no_denuncia']!=10]"
   ]
  },
  {
   "cell_type": "code",
   "execution_count": 81,
   "metadata": {},
   "outputs": [],
   "source": [
    "df_hurtos = raw_joint.copy()"
   ]
  },
  {
   "attachments": {},
   "cell_type": "markdown",
   "metadata": {},
   "source": [
    "# Procesando la información"
   ]
  },
  {
   "attachments": {},
   "cell_type": "markdown",
   "metadata": {},
   "source": [
    "## Cambiando valores de las columnas por los valores reales"
   ]
  },
  {
   "cell_type": "code",
   "execution_count": 82,
   "metadata": {},
   "outputs": [],
   "source": [
    "#mes_ultimo_unico_robo\n",
    "df_hurtos['mes_ultimo_unico_robo'] = df_hurtos['mes_ultimo_unico_robo'].replace(list_number(1,13),['enero', 'febrero', 'marzo', 'abril', 'mayo', 'junio',\n",
    "'julio', 'agosto', 'septiembre', 'octubre', 'noviembre', 'diciembre'])\n",
    "#municipio\n",
    "df_hurtos['municipio'] = df_hurtos['municipio'].replace([1,2],['este municipio','otro'])\n",
    "#metodo\n",
    "df_hurtos['metodo'] = df_hurtos['metodo'].replace(list_number(1,10),['cosquilleo','engaño','raponazo',\n",
    "'atraco','fleteo','paseo millonario','descuido','clonación_targeta','otro'])\n",
    "#hora\n",
    "df_hurtos['hora'] = df_hurtos['hora'].replace([1,2,3,4,9],['madrugada','mañana','tarde','noche',np.nan])\n",
    "#lugar\n",
    "df_hurtos['lugar'] = df_hurtos['lugar'].replace(list_number(1,12),[\"Trabajo/Estudio\",\"Calle/Avenida\",\"Mercado/Comercio\",\n",
    "\"Parque/Deporte\",\"Transporte público\",\"Entretenimiento\",\"Residencia propia\",\"Residencia ajena\",\n",
    "\"Vehículo\",\"Carretera/Trocha\",\"Otro lugar\"])\n",
    "\n"
   ]
  },
  {
   "cell_type": "code",
   "execution_count": 83,
   "metadata": {},
   "outputs": [],
   "source": [
    "#Columnas que responden a la pregunta: Cuales pertenencias le robaron?\n",
    "#Celular\n",
    "df_hurtos['celular'] = df_hurtos['celular'].replace([1,2],['si','no'])\n",
    "#efectivo_tarjetas\n",
    "df_hurtos['efectivo_tarjetas'] = df_hurtos['efectivo_tarjetas'].replace([1,2],['si','no'])\n",
    "#articulos_de_uso_personal\n",
    "df_hurtos['articulos_de_uso_personal'] = df_hurtos['articulos_de_uso_personal'].replace([1,2],['si','no'])\n",
    "#dispositivos\t\n",
    "df_hurtos['dispositivos'] = df_hurtos['dispositivos'].replace([1,2],['si','no'])\n",
    "#otro_objeto\n",
    "df_hurtos['otra_pertenencia'] = df_hurtos['otra_pertenencia'].replace([1,2],['si','no'])"
   ]
  },
  {
   "cell_type": "code",
   "execution_count": 84,
   "metadata": {},
   "outputs": [],
   "source": [
    "#Columnas que responden a la pregunta: lo agredieron o amenazaron utilizando?\n",
    "#'arma_fuego'\n",
    "df_hurtos['arma_fuego'] = df_hurtos['arma_fuego'].replace([1,2],['si','no'])\n",
    "#arma_blanca\n",
    "df_hurtos['arma_blanca'] = df_hurtos['arma_blanca'].replace([1,2],['si','no'])\n",
    "#otros_objetos\n",
    "df_hurtos['otros_objetos'] = df_hurtos['otros_objetos'].replace([1,2],['si','no'])\n",
    "#fuerza_fisica\n",
    "df_hurtos['fuerza_fisica'] = df_hurtos['fuerza_fisica'].replace([1,2],['si','no'])\n",
    "#drogas_sustancias\n",
    "df_hurtos['drogas_sustancias'] = df_hurtos['drogas_sustancias'].replace([1,2],['si','no'])\n"
   ]
  },
  {
   "cell_type": "code",
   "execution_count": 85,
   "metadata": {},
   "outputs": [],
   "source": [
    "#columnas que responden al proceso de la denuncia\n",
    "#hizo llamada\n",
    "df_hurtos['hizo_llamada'] = df_hurtos['hizo_llamada'].replace([1,2],['si','no'])\n",
    "#hizo_denuncia\n",
    "df_hurtos['denuncia'] = df_hurtos['denuncia'].replace([1,2],['si','no'])\n",
    "#lugar_denuncia\n",
    "df_hurtos['lugar_denuncia'] = df_hurtos['lugar_denuncia'].replace(list_number(1,6),[\"Estación de Policía\",\n",
    "\"Fiscalía\",\"C.A.I.\",\"denuncias en línea\",\n",
    "\"Reporte de objetos perdidos en línea\"])\n",
    "#autoridad\n",
    "df_hurtos['autoridad'] = df_hurtos['autoridad'].replace([1,2],['policia','fiscalia'])\n",
    "df_hurtos['autoridad'] = df_hurtos['autoridad'].replace(3.0,'fiscalia')\n",
    "#razon_denuncia\n",
    "df_hurtos['razon_denuncia'] = df_hurtos['razon_denuncia'].replace(list_number(1,8),['obligacion_ciudadana',\n",
    "'justicia','proteccion','evitar ocurrencia','recuperar bienes','requisito para tramite','otro'])\n",
    "#buena_atencion\n",
    "df_hurtos['buena_atencion'] = df_hurtos['buena_atencion'].replace([1,2],['si','no'])\n",
    "#razon de satisfaccion\n",
    "df_hurtos['razon_de_satisfaccion'] = df_hurtos['razon_de_satisfaccion'].replace(list_number(1,6),\n",
    "['info imprecisa', 'trato inadecuado', 'espera excesiva', 'requisitos excesivos', 'otro problema'])\n",
    "#razon_no_denuncia\n",
    "df_hurtos['razon_no_denuncia'] = df_hurtos['razon_no_denuncia'].replace(\n",
    "[ 1.,  2.,  3.,  4.,  5.,  6.,  7.,  8.,  9.],\n",
    "['desconocimiento del proceso', 'miedo a represalias', 'desconfianza en la justicia',\n",
    "'implicación de conocidos', 'consideró innecesario','trámites engorrosos', 'falta de pruebas',\n",
    "'desaconsejado por autoridades', 'otro problema'])\n",
    "#recuperacion_objeto\n",
    "df_hurtos['recuperacion_objeto'] = df_hurtos['recuperacion_objeto'].replace([1,2],['si','no'])\n"
   ]
  },
  {
   "attachments": {},
   "cell_type": "markdown",
   "metadata": {},
   "source": [
    "# DataFrames finales para el análisis:"
   ]
  },
  {
   "cell_type": "code",
   "execution_count": 86,
   "metadata": {},
   "outputs": [],
   "source": [
    "raw_joint.to_csv(\n",
    "    path_or_buf=data_dir(\"pre_process\",\"raw_joint.csv\"),\n",
    "    index=False,\n",
    "    sep=','\n",
    ")\n",
    "df_hurtos.to_csv(\n",
    "    path_or_buf=data_dir('pre_process','hurtos.csv'),\n",
    "    index=False,\n",
    "    sep=','\n",
    ")"
   ]
  }
 ],
 "metadata": {
  "kernelspec": {
   "display_name": "mall_segmentation",
   "language": "python",
   "name": "python3"
  },
  "language_info": {
   "codemirror_mode": {
    "name": "ipython",
    "version": 3
   },
   "file_extension": ".py",
   "mimetype": "text/x-python",
   "name": "python",
   "nbconvert_exporter": "python",
   "pygments_lexer": "ipython3",
   "version": "3.9.16"
  },
  "orig_nbformat": 4
 },
 "nbformat": 4,
 "nbformat_minor": 2
}
