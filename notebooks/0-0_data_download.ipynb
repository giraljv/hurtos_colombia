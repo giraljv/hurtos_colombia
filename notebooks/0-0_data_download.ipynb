{
 "cells": [
  {
   "cell_type": "code",
   "execution_count": 145,
   "metadata": {},
   "outputs": [],
   "source": [
    "import pandas as pd\n",
    "import seaborn as sns\n",
    "import matplotlib.pyplot as plt\n",
    "import numpy as np\n",
    "import utils.paths as path"
   ]
  },
  {
   "cell_type": "code",
   "execution_count": 146,
   "metadata": {},
   "outputs": [],
   "source": [
    "data_dir = path.make_dir_function(\"data\")"
   ]
  },
  {
   "cell_type": "code",
   "execution_count": 147,
   "metadata": {},
   "outputs": [],
   "source": [
    "raw_with_columns = (\n",
    "    pd.read_csv(\n",
    "    data_dir('raw','raw.csv'),\n",
    "    delimiter=';',\n",
    "    names=['DIRECTORIO', 'NRO_ENCUESTA', 'SECUENCIA_ENCUESTA', 'SECUENCIA_P',\n",
    "    'ORDEN', 'FEX_C','mes_ultimo_unico_robo','municipio','metodo','hora','lugar',\n",
    "    'celular','efectivo_tarjetas','articulos_de_uso_personal','dispositivos','otra_pertenencia',\n",
    "    'arma_fuego','arma_blanca','otros_objetos','fuerza_fisica','drogas_sustancias','hizo_llamada',\n",
    "    'denuncia','lugar_denuncia','autoridad','razon_denuncia','buena_atencion',\n",
    "    'razon_de_satisfaccion','razon_no_denuncia','recuperacion_objeto'\n",
    "    ],\n",
    "    header=0,\n",
    "    na_filter=True,\n",
    "    na_values=[' ']\n",
    "    )\n",
    "\n",
    ")"
   ]
  },
  {
   "cell_type": "code",
   "execution_count": 148,
   "metadata": {},
   "outputs": [],
   "source": [
    "df_hurtos = raw_with_columns.copy()"
   ]
  },
  {
   "cell_type": "code",
   "execution_count": 149,
   "metadata": {},
   "outputs": [
    {
     "data": {
      "text/plain": [
       "Index(['DIRECTORIO', 'NRO_ENCUESTA', 'SECUENCIA_ENCUESTA', 'SECUENCIA_P',\n",
       "       'ORDEN', 'FEX_C', 'mes_ultimo_unico_robo', 'municipio', 'metodo',\n",
       "       'hora', 'lugar', 'celular', 'efectivo_tarjetas',\n",
       "       'articulos_de_uso_personal', 'dispositivos', 'otra_pertenencia',\n",
       "       'arma_fuego', 'arma_blanca', 'otros_objetos', 'fuerza_fisica',\n",
       "       'drogas_sustancias', 'hizo_llamada', 'denuncia', 'lugar_denuncia',\n",
       "       'autoridad', 'razon_denuncia', 'buena_atencion',\n",
       "       'razon_de_satisfaccion', 'razon_no_denuncia', 'recuperacion_objeto'],\n",
       "      dtype='object')"
      ]
     },
     "execution_count": 149,
     "metadata": {},
     "output_type": "execute_result"
    }
   ],
   "source": [
    "df_hurtos.columns"
   ]
  },
  {
   "cell_type": "code",
   "execution_count": 150,
   "metadata": {},
   "outputs": [],
   "source": [
    "#funcion para crear lista de numeros para los replaces\n",
    "def list_number(start,end):\n",
    "    \n",
    "    list_n = []\n",
    "    \n",
    "    for number in range(start,end):\n",
    "        list_n.append(number)\n",
    "    \n",
    "    return list_n"
   ]
  },
  {
   "attachments": {},
   "cell_type": "markdown",
   "metadata": {},
   "source": [
    "## Cambiando datos numericos a sus respectivos valores para su analisis "
   ]
  },
  {
   "cell_type": "code",
   "execution_count": 151,
   "metadata": {},
   "outputs": [],
   "source": [
    "#mes_ultimo_unico_robo\n",
    "df_hurtos['mes_ultimo_unico_robo'] = df_hurtos['mes_ultimo_unico_robo'].replace(list_number(1,13),['enero', 'febrero', 'marzo', 'abril', 'mayo', 'junio',\n",
    "'julio', 'agosto', 'septiembre', 'octubre', 'noviembre', 'diciembre'])\n",
    "#municipio\n",
    "df_hurtos['municipio'] = df_hurtos['municipio'].replace([1,2],['este municipio','otro'])\n",
    "#metodo\n",
    "df_hurtos['metodo'] = df_hurtos['metodo'].replace(list_number(1,10),['cosquilleo','engaño','raponazo',\n",
    "'atraco','fleteo','paseo millonario','descuido','clonación_targeta','otro'])\n",
    "#hora\n",
    "df_hurtos['hora'] = df_hurtos['hora'].replace([1,2,3,4,9],['madrugada','mañana','tarde','noche',np.nan])\n",
    "#lugar\n",
    "df_hurtos['lugar'] = df_hurtos['lugar'].replace(list_number(1,12),[\"Trabajo/Estudio\",\"Calle/Avenida\",\"Mercado/Comercio\",\n",
    "\"Parque/Deporte\",\"Transporte público\",\"Entretenimiento\",\"Residencia propia\",\"Residencia ajena\",\n",
    "\"Vehículo\",\"Carretera/Trocha\",\"Otro lugar\"])\n",
    "\n"
   ]
  },
  {
   "cell_type": "code",
   "execution_count": 152,
   "metadata": {},
   "outputs": [],
   "source": [
    "#Columnas que responden a la pregunta: Cuales pertenencias le robaron?\n",
    "#Celular\n",
    "df_hurtos['celular'] = df_hurtos['celular'].replace([1,2],['si','no'])\n",
    "#efectivo_tarjetas\n",
    "df_hurtos['efectivo_tarjetas'] = df_hurtos['efectivo_tarjetas'].replace([1,2],['si','no'])\n",
    "#articulos_de_uso_personal\n",
    "df_hurtos['articulos_de_uso_personal'] = df_hurtos['articulos_de_uso_personal'].replace([1,2],['si','no'])\n",
    "#dispositivos\t\n",
    "df_hurtos['dispositivos'] = df_hurtos['dispositivos'].replace([1,2],['si','no'])\n",
    "#otro_objeto\n",
    "df_hurtos['otra_pertenencia'] = df_hurtos['otra_pertenencia'].replace([1,2],['si','no'])"
   ]
  },
  {
   "cell_type": "code",
   "execution_count": 153,
   "metadata": {},
   "outputs": [],
   "source": [
    "#Columnas que responden a la pregunta: lo agredieron o amenazaron utilizando?\n",
    "#'arma_fuego'\n",
    "df_hurtos['arma_fuego'] = df_hurtos['arma_fuego'].replace([1,2],['si','no'])\n",
    "#arma_blanca\n",
    "df_hurtos['arma_blanca'] = df_hurtos['arma_blanca'].replace([1,2],['si','no'])\n",
    "#otros_objetos\n",
    "df_hurtos['otros_objetos'] = df_hurtos['otros_objetos'].replace([1,2],['si','no'])\n",
    "#fuerza_fisica\n",
    "df_hurtos['fuerza_fisica'] = df_hurtos['fuerza_fisica'].replace([1,2],['si','no'])\n",
    "#drogas_sustancias\n",
    "df_hurtos['drogas_sustancias'] = df_hurtos['drogas_sustancias'].replace([1,2],['si','no'])\n"
   ]
  },
  {
   "cell_type": "code",
   "execution_count": 154,
   "metadata": {},
   "outputs": [],
   "source": [
    "#columnas que responden al proceso de la denuncia\n",
    "#hizo llamada\n",
    "df_hurtos['hizo_llamada'] = df_hurtos['hizo_llamada'].replace([1,2],['si','no'])\n",
    "#hizo_denuncia\n",
    "df_hurtos['denuncia'] = df_hurtos['denuncia'].replace([1,2],['si','no'])\n",
    "#lugar_denuncia\n",
    "df_hurtos['lugar_denuncia'] = df_hurtos['lugar_denuncia'].replace(list_number(1,6),[\"Estación de Policía\",\n",
    "\"Fiscalía\",\"C.A.I.\",\"denuncias en línea\",\n",
    "\"Reporte de objetos perdidos en línea\"])\n",
    "#autoridad\n",
    "df_hurtos['autoridad'] = df_hurtos['autoridad'].replace([1,2],['policia','fiscalia'])\n",
    "#razon_denuncia\n",
    "df_hurtos['razon_denuncia'] = df_hurtos['razon_denuncia'].replace(list_number(1,8),['obligacion_ciudadana',\n",
    "'justicia','proteccion','evitar ocurrencia','recuperar bienes','requisito para tramite','otro'])\n",
    "#buena_atencion\n",
    "df_hurtos['buena_atencion'] = df_hurtos['buena_atencion'].replace([1,2],['si','no'])\n",
    "#razon de satisfaccion\n",
    "df_hurtos['razon_de_satisfaccion'] = df_hurtos['razon_de_satisfaccion'].replace(list_number(1,6),\n",
    "['info imprecisa', 'trato inadecuado', 'espera excesiva', 'requisitos excesivos', 'otro problema'])\n",
    "#razon_no_denuncia\n",
    "df_hurtos['razon_no_denuncia'] = df_hurtos['razon_no_denuncia'].replace(list_number(1,10),\n",
    "['desconocimiento del proceso', 'miedo a represalias', 'desconfianza en la justicia',\n",
    "'implicación de conocidos', 'consideró innecesario','trámites engorrosos', 'falta de pruebas',\n",
    "'desaconsejado por autoridades', 'otro problema'])\n",
    "#recuperacion_objeto\n",
    "df_hurtos['recuperacion_objeto'] = df_hurtos['recuperacion_objeto'].replace([1,2],['si','no'])\n"
   ]
  },
  {
   "attachments": {},
   "cell_type": "markdown",
   "metadata": {},
   "source": [
    "## Data_sets "
   ]
  },
  {
   "cell_type": "code",
   "execution_count": 168,
   "metadata": {},
   "outputs": [],
   "source": [
    "raw_with_columns.to_csv(\n",
    "    path_or_buf=data_dir(\"raw\",\"raw_with_columns.csv\"),\n",
    "    index=False,\n",
    "    sep=','\n",
    ")\n",
    "df_hurtos.to_csv(\n",
    "    path_or_buf=data_dir('pre_process','df_hurtos.csv'),\n",
    "    index=False,\n",
    "    sep=','\n",
    ")"
   ]
  }
 ],
 "metadata": {
  "kernelspec": {
   "display_name": "mall_segmentation",
   "language": "python",
   "name": "python3"
  },
  "language_info": {
   "codemirror_mode": {
    "name": "ipython",
    "version": 3
   },
   "file_extension": ".py",
   "mimetype": "text/x-python",
   "name": "python",
   "nbconvert_exporter": "python",
   "pygments_lexer": "ipython3",
   "version": "3.9.16"
  },
  "orig_nbformat": 4
 },
 "nbformat": 4,
 "nbformat_minor": 2
}
